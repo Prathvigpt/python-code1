{
 "cells": [
  {
   "cell_type": "code",
   "execution_count": 1,
   "id": "b139ffcc",
   "metadata": {},
   "outputs": [
    {
     "data": {
      "text/plain": [
       "array([[   1, 4335],\n",
       "       [   2, 9552],\n",
       "       [   3, 7332],\n",
       "       [   4, 4504],\n",
       "       [   5, 5355],\n",
       "       [   6, 7552],\n",
       "       [   7, 8332],\n",
       "       [   8, 6504],\n",
       "       [   9, 8965],\n",
       "       [  10, 7689]])"
      ]
     },
     "execution_count": 1,
     "metadata": {},
     "output_type": "execute_result"
    }
   ],
   "source": [
    "import numpy as np\n",
    "day_number=np.arange(1,11)\n",
    "steps_walked=[4335,9552,7332,4504,5355,7552,8332,6504,8965,7689]\n",
    "arr=np.array([day_number,steps_walked])\n",
    "arr=arr.T\n",
    "arr"
   ]
  },
  {
   "cell_type": "code",
   "execution_count": 2,
   "id": "e8af11a5",
   "metadata": {},
   "outputs": [
    {
     "name": "stdout",
     "output_type": "stream",
     "text": [
      "   day  steps_walked\n",
      "0    1          4335\n",
      "1    2          9552\n",
      "2    3          7332\n",
      "3    4          4504\n",
      "4    5          5355\n",
      "5    6          7552\n",
      "6    7          8332\n",
      "7    8          6504\n",
      "8    9          8965\n",
      "9   10          7689\n"
     ]
    }
   ],
   "source": [
    "import pandas as pd\n",
    "arr={'day':[1,2,3,4,5,6,7,8,9,10],'steps_walked':[4335,9552,7332,4504,5355,7552,8332,6504,8965,7689]}\n",
    "df=pd.DataFrame(arr)\n",
    "print(df)"
   ]
  },
  {
   "cell_type": "code",
   "execution_count": 11,
   "id": "fa4cd61b",
   "metadata": {},
   "outputs": [
    {
     "ename": "NameError",
     "evalue": "name 'new_arr' is not defined",
     "output_type": "error",
     "traceback": [
      "\u001b[1;31m---------------------------------------------------------------------------\u001b[0m",
      "\u001b[1;31mNameError\u001b[0m                                 Traceback (most recent call last)",
      "Cell \u001b[1;32mIn[11], line 1\u001b[0m\n\u001b[1;32m----> 1\u001b[0m new_arr[:,\u001b[38;5;241m1\u001b[39m]\u001b[38;5;241m+\u001b[39m\u001b[38;5;241m2000\u001b[39m\n\u001b[0;32m      2\u001b[0m arr[:,\u001b[38;5;241m1\u001b[39m]\u001b[38;5;241m=\u001b[39mnew_arr\n\u001b[0;32m      3\u001b[0m arr\n",
      "\u001b[1;31mNameError\u001b[0m: name 'new_arr' is not defined"
     ]
    }
   ],
   "source": [
    "new_arr=arr[:,1]+2000\n",
    "arr[:,1]=new_arr\n",
    "arr"
   ]
  },
  {
   "cell_type": "code",
   "execution_count": 12,
   "id": "7260ebde",
   "metadata": {
    "scrolled": true
   },
   "outputs": [
    {
     "name": "stdout",
     "output_type": "stream",
     "text": [
      "0     5335\n",
      "1    10552\n",
      "2     8332\n",
      "3     5504\n",
      "4     6355\n",
      "5     8552\n",
      "6     9332\n",
      "7     7504\n",
      "8     9965\n",
      "9     8689\n",
      "Name: steps_walked, dtype: int64\n"
     ]
    }
   ],
   "source": [
    "arr['steps_walked']=df['steps_walked']+1000\n",
    "print(arr['steps_walked'])"
   ]
  },
  {
   "cell_type": "code",
   "execution_count": 15,
   "id": "4fd538ac",
   "metadata": {},
   "outputs": [
    {
     "ename": "TypeError",
     "evalue": "unhashable type: 'slice'",
     "output_type": "error",
     "traceback": [
      "\u001b[1;31m---------------------------------------------------------------------------\u001b[0m",
      "\u001b[1;31mTypeError\u001b[0m                                 Traceback (most recent call last)",
      "Cell \u001b[1;32mIn[15], line 1\u001b[0m\n\u001b[1;32m----> 1\u001b[0m matched\u001b[38;5;241m=\u001b[39marr[:,\u001b[38;5;241m1\u001b[39m] \u001b[38;5;241m>\u001b[39m \u001b[38;5;241m9000\u001b[39m\n\u001b[0;32m      2\u001b[0m matched\n\u001b[0;32m      3\u001b[0m new_arr\u001b[38;5;241m=\u001b[39marr[matched]\n",
      "\u001b[1;31mTypeError\u001b[0m: unhashable type: 'slice'"
     ]
    }
   ],
   "source": [
    "\n",
    "new_arrmatched=arr[:,1]\n",
    "matched\n",
    "new"
   ]
  },
  {
   "cell_type": "code",
   "execution_count": 17,
   "id": "040d961f",
   "metadata": {},
   "outputs": [
    {
     "name": "stdout",
     "output_type": "stream",
     "text": [
      "   day  steps_walked\n",
      "1    2          9552\n"
     ]
    }
   ],
   "source": [
    "matched=df.loc[df['steps_walked']>9000]\n",
    "print(matched)"
   ]
  },
  {
   "cell_type": "code",
   "execution_count": null,
   "id": "8b7abc2e",
   "metadata": {},
   "outputs": [],
   "source": []
  }
 ],
 "metadata": {
  "kernelspec": {
   "display_name": "Python 3 (ipykernel)",
   "language": "python",
   "name": "python3"
  },
  "language_info": {
   "codemirror_mode": {
    "name": "ipython",
    "version": 3
   },
   "file_extension": ".py",
   "mimetype": "text/x-python",
   "name": "python",
   "nbconvert_exporter": "python",
   "pygments_lexer": "ipython3",
   "version": "3.11.4"
  }
 },
 "nbformat": 4,
 "nbformat_minor": 5
}
